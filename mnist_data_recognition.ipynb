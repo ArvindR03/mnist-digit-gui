{
  "nbformat": 4,
  "nbformat_minor": 0,
  "metadata": {
    "colab": {
      "provenance": []
    },
    "kernelspec": {
      "name": "python3",
      "display_name": "Python 3"
    },
    "language_info": {
      "name": "python"
    },
    "accelerator": "TPU"
  },
  "cells": [
    {
      "cell_type": "code",
      "execution_count": 1,
      "metadata": {
        "id": "VZ9tbiH_GKLq",
        "colab": {
          "base_uri": "https://localhost:8080/"
        },
        "outputId": "cbbc3a16-7c59-43d2-94d5-06d209ef7172"
      },
      "outputs": [
        {
          "output_type": "stream",
          "name": "stdout",
          "text": [
            "Downloading data from https://storage.googleapis.com/tensorflow/tf-keras-datasets/mnist.npz\n",
            "11490434/11490434 [==============================] - 0s 0us/step\n"
          ]
        }
      ],
      "source": [
        "from keras.datasets import mnist\n",
        "(X_train, y_train), (X_test, y_test) = mnist.load_data()"
      ]
    },
    {
      "cell_type": "code",
      "source": [
        "import matplotlib.pyplot as plt\n",
        "\n",
        "def load_training_image(i, grey=False):\n",
        "  plt.title(f\"Label: {y_train[i]}\")\n",
        "  if grey:\n",
        "    plt.imshow(X_train[i], cmap='Greys')\n",
        "  else:\n",
        "    plt.imshow(X_train[i])\n",
        "  plt.show()\n",
        "\n",
        "load_training_image(10)"
      ],
      "metadata": {
        "colab": {
          "base_uri": "https://localhost:8080/",
          "height": 452
        },
        "id": "Y1VAxJGcGdS9",
        "outputId": "85db819d-e10b-40e2-a077-5486fe1969bd"
      },
      "execution_count": 2,
      "outputs": [
        {
          "output_type": "display_data",
          "data": {
            "text/plain": [
              "<Figure size 640x480 with 1 Axes>"
            ],
            "image/png": "[encoded data removed]"
          },
          "metadata": {}
        }
      ]
    },
    {
      "cell_type": "code",
      "source": [
        "print(X_train.shape)\n",
        "print(X_test.shape)"
      ],
      "metadata": {
        "colab": {
          "base_uri": "https://localhost:8080/"
        },
        "id": "w0MVnYW5HCzt",
        "outputId": "66604eb2-d476-4881-a9c5-e12bc3116dae"
      },
      "execution_count": 3,
      "outputs": [
        {
          "output_type": "stream",
          "name": "stdout",
          "text": [
            "(60000, 28, 28)\n",
            "(10000, 28, 28)\n"
          ]
        }
      ]
    },
    {
      "cell_type": "code",
      "source": [
        "import keras\n",
        "\n",
        "img_dimensions = (28, 28)\n",
        "num_classes = 10\n",
        "\n",
        "# reshaping images to (M x N x 1)\n",
        "X_train = X_train.reshape(X_train.shape[0], img_dimensions[0], img_dimensions[1], 1)\n",
        "X_test = X_test.reshape(X_test.shape[0], img_dimensions[0], img_dimensions[1], 1)\n",
        "\n",
        "# normalising pixel values to grayscale\n",
        "X_train = X_train.astype('float32') / 255.0\n",
        "X_test = X_test.astype('float32') / 255.0\n",
        "\n",
        "# categorizing labels with one hot encoding\n",
        "y_train = keras.utils.to_categorical(y_train, num_classes)\n",
        "y_test = keras.utils.to_categorical(y_test, num_classes)"
      ],
      "metadata": {
        "id": "ipl_ZcsOHT5k"
      },
      "execution_count": 4,
      "outputs": []
    },
    {
      "cell_type": "code",
      "source": [
        "from keras.models import Sequential\n",
        "from keras.layers import Conv2D, Flatten, Dense, Dropout, MaxPooling2D"
      ],
      "metadata": {
        "id": "y8LBNAVxImox"
      },
      "execution_count": 5,
      "outputs": []
    },
    {
      "cell_type": "code",
      "source": [
        "input_shape = (img_dimensions[0], img_dimensions[1], 1)"
      ],
      "metadata": {
        "id": "D9W-ha5cJGBx"
      },
      "execution_count": 6,
      "outputs": []
    },
    {
      "cell_type": "code",
      "source": [
        "# cnn\n",
        "\n",
        "model = Sequential()\n",
        "model.add(Conv2D(\n",
        "    filters=32,\n",
        "    kernel_size=(3, 3),\n",
        "    activation='relu',\n",
        "    input_shape=input_shape\n",
        "))\n",
        "model.add(Conv2D(\n",
        "    filters=64,\n",
        "    kernel_size=(3, 3),\n",
        "    activation='relu'\n",
        "))\n",
        "model.add(MaxPooling2D(\n",
        "    pool_size=(2, 2)\n",
        "))\n",
        "model.add(Dropout(0.25))\n",
        "model.add(Flatten())\n",
        "model.add(Dense(\n",
        "    128, activation='relu'\n",
        "))\n",
        "model.add(Dropout(0.5))\n",
        "model.add(Dense(\n",
        "    num_classes, activation='softmax'\n",
        "))"
      ],
      "metadata": {
        "id": "XV-mmtb5IwlR"
      },
      "execution_count": 10,
      "outputs": []
    },
    {
      "cell_type": "code",
      "source": [
        "model.compile(\n",
        "  loss='categorical_crossentropy',\n",
        "  optimizer='adam',\n",
        "  metrics=['accuracy']\n",
        ")"
      ],
      "metadata": {
        "id": "-hoe9bzCJ0QC"
      },
      "execution_count": 13,
      "outputs": []
    },
    {
      "cell_type": "code",
      "source": [
        "batch_size = 128\n",
        "epochs = 10\n",
        "\n",
        "model.fit(X_train, y_train,\n",
        "          batch_size=batch_size,\n",
        "          epochs=epochs,\n",
        "          verbose=1,\n",
        "          validation_data=(X_test, y_test))"
      ],
      "metadata": {
        "colab": {
          "base_uri": "https://localhost:8080/"
        },
        "id": "fSqv2ZsEJ8ln",
        "outputId": "4b65faa6-9c8c-4be9-d8d8-b8af2b846ef6"
      },
      "execution_count": 14,
      "outputs": [
        {
          "output_type": "stream",
          "name": "stdout",
          "text": [
            "Epoch 1/10\n",
            "469/469 [==============================] - 208s 441ms/step - loss: 0.2554 - accuracy: 0.9222 - val_loss: 0.0572 - val_accuracy: 0.9818\n",
            "Epoch 2/10\n",
            "469/469 [==============================] - 201s 428ms/step - loss: 0.0930 - accuracy: 0.9730 - val_loss: 0.0435 - val_accuracy: 0.9854\n",
            "Epoch 3/10\n",
            "469/469 [==============================] - 197s 421ms/step - loss: 0.0666 - accuracy: 0.9793 - val_loss: 0.0337 - val_accuracy: 0.9888\n",
            "Epoch 4/10\n",
            "469/469 [==============================] - 200s 428ms/step - loss: 0.0556 - accuracy: 0.9831 - val_loss: 0.0307 - val_accuracy: 0.9900\n",
            "Epoch 5/10\n",
            "469/469 [==============================] - 200s 426ms/step - loss: 0.0455 - accuracy: 0.9861 - val_loss: 0.0302 - val_accuracy: 0.9898\n",
            "Epoch 6/10\n",
            "469/469 [==============================] - 203s 432ms/step - loss: 0.0415 - accuracy: 0.9871 - val_loss: 0.0280 - val_accuracy: 0.9907\n",
            "Epoch 7/10\n",
            "469/469 [==============================] - 204s 435ms/step - loss: 0.0360 - accuracy: 0.9884 - val_loss: 0.0283 - val_accuracy: 0.9918\n",
            "Epoch 8/10\n",
            "469/469 [==============================] - 207s 441ms/step - loss: 0.0336 - accuracy: 0.9895 - val_loss: 0.0289 - val_accuracy: 0.9918\n",
            "Epoch 9/10\n",
            "469/469 [==============================] - 200s 427ms/step - loss: 0.0287 - accuracy: 0.9906 - val_loss: 0.0273 - val_accuracy: 0.9919\n",
            "Epoch 10/10\n",
            "469/469 [==============================] - 204s 436ms/step - loss: 0.0271 - accuracy: 0.9913 - val_loss: 0.0246 - val_accuracy: 0.9926\n"
          ]
        },
        {
          "output_type": "execute_result",
          "data": {
            "text/plain": [
              "<keras.callbacks.History at 0x7a93c1fe13f0>"
            ]
          },
          "metadata": {},
          "execution_count": 14
        }
      ]
    },
    {
      "cell_type": "code",
      "source": [
        "score = model.evaluate(X_test, y_test, verbose=0)\n",
        "print('Test loss:', score[0])\n",
        "print('Test accuracy:', score[1])"
      ],
      "metadata": {
        "id": "9NqLFar-KXt7",
        "colab": {
          "base_uri": "https://localhost:8080/"
        },
        "outputId": "759d354e-d208-48b6-89ca-30ad712db578"
      },
      "execution_count": 15,
      "outputs": [
        {
          "output_type": "stream",
          "name": "stdout",
          "text": [
            "Test loss: 0.02464957907795906\n",
            "Test accuracy: 0.9926000237464905\n"
          ]
        }
      ]
    },
    {
      "cell_type": "code",
      "source": [
        "model.save(\"mnist-cnn.h5\")"
      ],
      "metadata": {
        "id": "yS4cfLHyiXPj"
      },
      "execution_count": 16,
      "outputs": []
    },
    {
      "cell_type": "code",
      "source": [],
      "metadata": {
        "id": "0IsBRdSQiatT"
      },
      "execution_count": null,
      "outputs": []
    }
  ]
}